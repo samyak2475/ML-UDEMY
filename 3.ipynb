{
  "nbformat": 4,
  "nbformat_minor": 0,
  "metadata": {
    "colab": {
      "provenance": [],
      "authorship_tag": "ABX9TyMjPukN4DUnKnFY7HW47YIT",
      "include_colab_link": true
    },
    "kernelspec": {
      "name": "python3",
      "display_name": "Python 3"
    },
    "language_info": {
      "name": "python"
    }
  },
  "cells": [
    {
      "cell_type": "markdown",
      "metadata": {
        "id": "view-in-github",
        "colab_type": "text"
      },
      "source": [
        "<a href=\"https://colab.research.google.com/github/samyak2475/ML-UDEMY/blob/main/3.ipynb\" target=\"_parent\"><img src=\"https://colab.research.google.com/assets/colab-badge.svg\" alt=\"Open In Colab\"/></a>"
      ]
    },
    {
      "cell_type": "markdown",
      "source": [
        "**STATISTCS**"
      ],
      "metadata": {
        "id": "TZH-BmPlHtWy"
      }
    },
    {
      "cell_type": "markdown",
      "source": [
        "DATA TYPES\n"
      ],
      "metadata": {
        "id": "zf7uNesdHyGq"
      }
    },
    {
      "cell_type": "markdown",
      "source": [
        "1. Qualitative -\n",
        "\n",
        "    1.nominal\n",
        "    \n",
        "    2.ordianl\n",
        "2. Quantitative -\n",
        "\n",
        "    1.discrete vraialbes\n",
        "\n",
        "    2.contibous varialbes"
      ],
      "metadata": {
        "id": "D56pEIh0H0SO"
      }
    },
    {
      "cell_type": "code",
      "source": [],
      "metadata": {
        "id": "iLavcRU5Hsrr"
      },
      "execution_count": null,
      "outputs": []
    },
    {
      "cell_type": "code",
      "execution_count": null,
      "metadata": {
        "id": "Z4iKi2KhDMTZ"
      },
      "outputs": [],
      "source": []
    }
  ]
}