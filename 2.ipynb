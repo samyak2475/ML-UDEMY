{
  "nbformat": 4,
  "nbformat_minor": 0,
  "metadata": {
    "colab": {
      "provenance": [],
      "authorship_tag": "ABX9TyNsaeGId3x7AB9lzGB6HPrd",
      "include_colab_link": true
    },
    "kernelspec": {
      "name": "python3",
      "display_name": "Python 3"
    },
    "language_info": {
      "name": "python"
    }
  },
  "cells": [
    {
      "cell_type": "markdown",
      "metadata": {
        "id": "view-in-github",
        "colab_type": "text"
      },
      "source": [
        "<a href=\"https://colab.research.google.com/github/samyak2475/ML-UDEMY/blob/main/2.ipynb\" target=\"_parent\"><img src=\"https://colab.research.google.com/assets/colab-badge.svg\" alt=\"Open In Colab\"/></a>"
      ]
    },
    {
      "cell_type": "markdown",
      "source": [
        "**NUMPY**"
      ],
      "metadata": {
        "id": "B-ljGv44VtVJ"
      }
    },
    {
      "cell_type": "code",
      "execution_count": 1,
      "metadata": {
        "id": "jfPC3Mx1RubR"
      },
      "outputs": [],
      "source": [
        "import numpy as np"
      ]
    },
    {
      "cell_type": "code",
      "source": [
        "np1 = np.array([1,2,3,4,5])"
      ],
      "metadata": {
        "id": "DWAJG6GjWAVS"
      },
      "execution_count": 2,
      "outputs": []
    },
    {
      "cell_type": "code",
      "source": [
        "np1"
      ],
      "metadata": {
        "colab": {
          "base_uri": "https://localhost:8080/"
        },
        "id": "ntnc0wbSWNKh",
        "outputId": "8e402b0b-a844-4145-ebce-f36caae15110"
      },
      "execution_count": 3,
      "outputs": [
        {
          "output_type": "execute_result",
          "data": {
            "text/plain": [
              "array([1, 2, 3, 4, 5])"
            ]
          },
          "metadata": {},
          "execution_count": 3
        }
      ]
    },
    {
      "cell_type": "code",
      "source": [
        "type(np1)"
      ],
      "metadata": {
        "colab": {
          "base_uri": "https://localhost:8080/"
        },
        "id": "jBYDnXcIWOLd",
        "outputId": "c5cfcba5-bc85-4d63-eed5-a92896938e71"
      },
      "execution_count": 4,
      "outputs": [
        {
          "output_type": "execute_result",
          "data": {
            "text/plain": [
              "numpy.ndarray"
            ]
          },
          "metadata": {},
          "execution_count": 4
        }
      ]
    },
    {
      "cell_type": "code",
      "source": [
        "type(np1[2])"
      ],
      "metadata": {
        "colab": {
          "base_uri": "https://localhost:8080/"
        },
        "id": "Qz1tbxzCWSJX",
        "outputId": "4f37a84e-ea32-4478-d19c-8588c59e0be7"
      },
      "execution_count": 5,
      "outputs": [
        {
          "output_type": "execute_result",
          "data": {
            "text/plain": [
              "numpy.int64"
            ]
          },
          "metadata": {},
          "execution_count": 5
        }
      ]
    },
    {
      "cell_type": "code",
      "source": [
        "mat1 = np.array([[1,2,3],[4,5,6],[7,8,9]])"
      ],
      "metadata": {
        "id": "4sWlkmR5WUna"
      },
      "execution_count": 6,
      "outputs": []
    },
    {
      "cell_type": "code",
      "source": [
        "mat1"
      ],
      "metadata": {
        "colab": {
          "base_uri": "https://localhost:8080/"
        },
        "id": "G6kHmT-HWaGO",
        "outputId": "df475c9a-6c10-40b3-b5ac-62f66e1a2ea5"
      },
      "execution_count": 7,
      "outputs": [
        {
          "output_type": "execute_result",
          "data": {
            "text/plain": [
              "array([[1, 2, 3],\n",
              "       [4, 5, 6],\n",
              "       [7, 8, 9]])"
            ]
          },
          "metadata": {},
          "execution_count": 7
        }
      ]
    },
    {
      "cell_type": "code",
      "source": [
        "np1.shape"
      ],
      "metadata": {
        "colab": {
          "base_uri": "https://localhost:8080/"
        },
        "id": "iNMoSbjqWapj",
        "outputId": "7ef89b78-3907-49fd-f65a-e3f2af02fb95"
      },
      "execution_count": 8,
      "outputs": [
        {
          "output_type": "execute_result",
          "data": {
            "text/plain": [
              "(5,)"
            ]
          },
          "metadata": {},
          "execution_count": 8
        }
      ]
    },
    {
      "cell_type": "code",
      "source": [
        "mat1.shape"
      ],
      "metadata": {
        "colab": {
          "base_uri": "https://localhost:8080/"
        },
        "id": "Cncpxiw8Wf1t",
        "outputId": "d81b1149-b7bb-4241-f783-075640b66004"
      },
      "execution_count": 9,
      "outputs": [
        {
          "output_type": "execute_result",
          "data": {
            "text/plain": [
              "(3, 3)"
            ]
          },
          "metadata": {},
          "execution_count": 9
        }
      ]
    },
    {
      "cell_type": "code",
      "source": [
        "mat1.dtype"
      ],
      "metadata": {
        "colab": {
          "base_uri": "https://localhost:8080/"
        },
        "id": "2QFnTAkTWiQQ",
        "outputId": "4ac4df94-17d7-497f-b71f-a65e178adec3"
      },
      "execution_count": 10,
      "outputs": [
        {
          "output_type": "execute_result",
          "data": {
            "text/plain": [
              "dtype('int64')"
            ]
          },
          "metadata": {},
          "execution_count": 10
        }
      ]
    },
    {
      "cell_type": "code",
      "source": [
        "type(mat1)"
      ],
      "metadata": {
        "colab": {
          "base_uri": "https://localhost:8080/"
        },
        "id": "05Cf2ATtWlx5",
        "outputId": "a13b0a35-e901-4e29-853a-6c500e9c27ef"
      },
      "execution_count": 11,
      "outputs": [
        {
          "output_type": "execute_result",
          "data": {
            "text/plain": [
              "numpy.ndarray"
            ]
          },
          "metadata": {},
          "execution_count": 11
        }
      ]
    },
    {
      "cell_type": "code",
      "source": [
        "mat1 [0,0] = 5"
      ],
      "metadata": {
        "id": "v9wcaCymW0k-"
      },
      "execution_count": 12,
      "outputs": []
    },
    {
      "cell_type": "code",
      "source": [
        "mat1"
      ],
      "metadata": {
        "colab": {
          "base_uri": "https://localhost:8080/"
        },
        "id": "4DgrnGFJXADs",
        "outputId": "6de32eac-e68b-43e5-f7b9-bc23d36a1890"
      },
      "execution_count": 13,
      "outputs": [
        {
          "output_type": "execute_result",
          "data": {
            "text/plain": [
              "array([[5, 2, 3],\n",
              "       [4, 5, 6],\n",
              "       [7, 8, 9]])"
            ]
          },
          "metadata": {},
          "execution_count": 13
        }
      ]
    },
    {
      "cell_type": "code",
      "source": [
        "mat1[0,0] = 1"
      ],
      "metadata": {
        "id": "ItwjJGp7XApb"
      },
      "execution_count": 14,
      "outputs": []
    },
    {
      "cell_type": "code",
      "source": [
        "mat2 = np.arange(0,10,2) #arange - generates random values, only 'range' if using in a lsit"
      ],
      "metadata": {
        "id": "cIPsYjYUXEVn"
      },
      "execution_count": 19,
      "outputs": []
    },
    {
      "cell_type": "code",
      "source": [
        "mat2"
      ],
      "metadata": {
        "colab": {
          "base_uri": "https://localhost:8080/"
        },
        "id": "9r2J3SmHXfJq",
        "outputId": "ba7aa18f-8a3d-40af-ffeb-63faaec3c967"
      },
      "execution_count": 18,
      "outputs": [
        {
          "output_type": "execute_result",
          "data": {
            "text/plain": [
              "array([0, 2, 4, 6, 8])"
            ]
          },
          "metadata": {},
          "execution_count": 18
        }
      ]
    },
    {
      "cell_type": "code",
      "source": [
        "mat3 = np.linspace(0,10,20) #linspace - generates linearly spaced valu20 being number of elemets"
      ],
      "metadata": {
        "id": "CeKOm4iOXf2z"
      },
      "execution_count": 24,
      "outputs": []
    },
    {
      "cell_type": "code",
      "source": [
        "mat3"
      ],
      "metadata": {
        "colab": {
          "base_uri": "https://localhost:8080/"
        },
        "id": "fYtFWzj-YL7c",
        "outputId": "24d1331f-24cf-455b-ec07-883b00610894"
      },
      "execution_count": 23,
      "outputs": [
        {
          "output_type": "execute_result",
          "data": {
            "text/plain": [
              "array([ 0.        ,  0.52631579,  1.05263158,  1.57894737,  2.10526316,\n",
              "        2.63157895,  3.15789474,  3.68421053,  4.21052632,  4.73684211,\n",
              "        5.26315789,  5.78947368,  6.31578947,  6.84210526,  7.36842105,\n",
              "        7.89473684,  8.42105263,  8.94736842,  9.47368421, 10.        ])"
            ]
          },
          "metadata": {},
          "execution_count": 23
        }
      ]
    },
    {
      "cell_type": "code",
      "source": [
        "mat3.shape"
      ],
      "metadata": {
        "colab": {
          "base_uri": "https://localhost:8080/"
        },
        "id": "Feg00AniYOzy",
        "outputId": "07b2dc84-46ce-440b-e648-7edf93ada08f"
      },
      "execution_count": 25,
      "outputs": [
        {
          "output_type": "execute_result",
          "data": {
            "text/plain": [
              "(20,)"
            ]
          },
          "metadata": {},
          "execution_count": 25
        }
      ]
    },
    {
      "cell_type": "code",
      "source": [
        "mat4 = np.random.rand(5,5) # generates ranndom matrix"
      ],
      "metadata": {
        "id": "szW-IURUYfZz"
      },
      "execution_count": 29,
      "outputs": []
    },
    {
      "cell_type": "code",
      "source": [
        "mat4"
      ],
      "metadata": {
        "colab": {
          "base_uri": "https://localhost:8080/"
        },
        "id": "1YJxOcnUYlFn",
        "outputId": "bebbdfc8-74f6-476c-b6ed-aa8331c6a95e"
      },
      "execution_count": 30,
      "outputs": [
        {
          "output_type": "execute_result",
          "data": {
            "text/plain": [
              "array([[0.36769343, 0.89423278, 0.4388753 , 0.84535876, 0.95307552],\n",
              "       [0.64773862, 0.66299902, 0.72583831, 0.02516874, 0.759437  ],\n",
              "       [0.51759961, 0.12947839, 0.57718001, 0.12084512, 0.93504683],\n",
              "       [0.55683096, 0.83451223, 0.56182518, 0.25018809, 0.8427133 ],\n",
              "       [0.93682311, 0.6501742 , 0.5636178 , 0.58245345, 0.89536636]])"
            ]
          },
          "metadata": {},
          "execution_count": 30
        }
      ]
    },
    {
      "cell_type": "code",
      "source": [
        "mat5 = np.random.randn(5,5) # generates random matrix with normal distribution"
      ],
      "metadata": {
        "id": "IED9y5ZjYltE"
      },
      "execution_count": 31,
      "outputs": []
    },
    {
      "cell_type": "code",
      "source": [
        "mat5"
      ],
      "metadata": {
        "colab": {
          "base_uri": "https://localhost:8080/"
        },
        "id": "AAz0s2JpZBzO",
        "outputId": "c4701812-6b57-4761-af48-e5fd210c4ab0"
      },
      "execution_count": 32,
      "outputs": [
        {
          "output_type": "execute_result",
          "data": {
            "text/plain": [
              "array([[ 0.49418984,  0.37286584,  0.09365051, -1.89546485, -0.18507172],\n",
              "       [ 1.46983105, -0.13103719, -0.09513528,  0.66411233, -0.32358949],\n",
              "       [-0.63876875, -0.47730641,  0.50726932,  2.58114581,  0.49725642],\n",
              "       [-0.48012246,  0.72280909, -0.4827191 ,  0.25895694,  1.74721546],\n",
              "       [-1.22039986, -0.13283312, -0.53296558,  1.25119278,  0.1792    ]])"
            ]
          },
          "metadata": {},
          "execution_count": 32
        }
      ]
    },
    {
      "cell_type": "markdown",
      "source": [
        "\n",
        "\n",
        "1.   np.diag\n",
        "2.   np.zeros\n",
        "3.   np.ones\n",
        "\n"
      ],
      "metadata": {
        "id": "lLJa_xWUZSxw"
      }
    },
    {
      "cell_type": "code",
      "source": [
        "mat5[0,2]"
      ],
      "metadata": {
        "colab": {
          "base_uri": "https://localhost:8080/"
        },
        "id": "Gwi2atWkZCUF",
        "outputId": "423af8c5-bbb1-4029-c4d7-349b4cef38a1"
      },
      "execution_count": 33,
      "outputs": [
        {
          "output_type": "execute_result",
          "data": {
            "text/plain": [
              "np.float64(0.09365051361366572)"
            ]
          },
          "metadata": {},
          "execution_count": 33
        }
      ]
    },
    {
      "cell_type": "code",
      "source": [
        "mat5[0:3,:] # to get firt three rows"
      ],
      "metadata": {
        "colab": {
          "base_uri": "https://localhost:8080/"
        },
        "id": "WOMKhTB4ZrGP",
        "outputId": "1f547e97-f0dd-453f-dc88-3a1b2096ec1e"
      },
      "execution_count": 34,
      "outputs": [
        {
          "output_type": "execute_result",
          "data": {
            "text/plain": [
              "array([[ 0.49418984,  0.37286584,  0.09365051, -1.89546485, -0.18507172],\n",
              "       [ 1.46983105, -0.13103719, -0.09513528,  0.66411233, -0.32358949],\n",
              "       [-0.63876875, -0.47730641,  0.50726932,  2.58114581,  0.49725642]])"
            ]
          },
          "metadata": {},
          "execution_count": 34
        }
      ]
    },
    {
      "cell_type": "markdown",
      "source": [
        "Q) mport the NumPy library and create a 1-dimensional NumPy array called 'a' with values [1, 2, 3, 4].\n",
        "\n",
        "Then, store the shape of the array 'a' in a variable 'b'.\n"
      ],
      "metadata": {
        "id": "cJF53Ul8aR0K"
      }
    },
    {
      "cell_type": "code",
      "source": [
        "import numpy as np\n",
        "a = np.array([1,2,3,4])\n",
        "b = a.shape"
      ],
      "metadata": {
        "id": "rNYOS_luZ99A"
      },
      "execution_count": 35,
      "outputs": []
    },
    {
      "cell_type": "code",
      "source": [
        "b"
      ],
      "metadata": {
        "colab": {
          "base_uri": "https://localhost:8080/"
        },
        "id": "D-K_iDZFafZf",
        "outputId": "04446c1b-da04-482d-f6cd-63cdcf37d705"
      },
      "execution_count": 36,
      "outputs": [
        {
          "output_type": "execute_result",
          "data": {
            "text/plain": [
              "(4,)"
            ]
          },
          "metadata": {},
          "execution_count": 36
        }
      ]
    },
    {
      "cell_type": "markdown",
      "source": [
        "**PANDAS**"
      ],
      "metadata": {
        "id": "dIgq-UOMao0v"
      }
    },
    {
      "cell_type": "markdown",
      "source": [
        "Specifically for data manipulation and analysis"
      ],
      "metadata": {
        "id": "J__vfkTYatOQ"
      }
    },
    {
      "cell_type": "code",
      "source": [
        "import pandas as pd"
      ],
      "metadata": {
        "id": "JWrwMwgvajLc"
      },
      "execution_count": 37,
      "outputs": []
    },
    {
      "cell_type": "code",
      "source": [],
      "metadata": {
        "id": "W7pYVqmNcEhM"
      },
      "execution_count": null,
      "outputs": []
    }
  ]
}